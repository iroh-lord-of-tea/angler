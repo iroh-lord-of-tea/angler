{
 "cells": [
  {
   "attachments": {},
   "cell_type": "markdown",
   "metadata": {},
   "source": [
    "# Power Splitter Demo\n",
    "\n",
    "This is an introductory demo for using angler for inverse design.   \n",
    "\n",
    "Here we will walk through designing a 50-50 power splitter.\n",
    "\n",
    "## Setup\n",
    "\n",
    "We'll first import all of the packages we need and set up our notebook."
   ]
  },
  {
   "cell_type": "code",
   "execution_count": 1,
   "metadata": {},
   "outputs": [
    {
     "name": "stdout",
     "output_type": "stream",
     "text": [
      "Intel MKL WARNING: Support of Intel(R) Streaming SIMD Extensions 4.2 (Intel(R) SSE4.2) enabled only processors has been deprecated. Intel oneAPI Math Kernel Library 2025.0 will require Intel(R) Advanced Vector Extensions (Intel(R) AVX) instructions.\n",
      "Intel MKL WARNING: Support of Intel(R) Streaming SIMD Extensions 4.2 (Intel(R) SSE4.2) enabled only processors has been deprecated. Intel oneAPI Math Kernel Library 2025.0 will require Intel(R) Advanced Vector Extensions (Intel(R) AVX) instructions.\n"
     ]
    }
   ],
   "source": [
    "import numpy as np\n",
    "import matplotlib.pylab as plt\n",
    "import copy\n",
    "\n",
    "# add angler to path (not necessary if pip installed)\n",
    "import sys\n",
    "sys.path.append(\"..\")\n",
    "\n",
    "# import the main simulation and optimization classes\n",
    "from angler import Simulation, Optimization\n",
    "\n",
    "# import some structure generators\n",
    "from angler.structures import three_port, two_port, N_port, N_IO_port\n",
    "\n",
    "%load_ext autoreload\n",
    "%autoreload 2\n",
    "%matplotlib inline"
   ]
  },
  {
   "attachments": {},
   "cell_type": "markdown",
   "metadata": {},
   "source": [
    "Now let's define some of the parameters we'll be using in our optimization"
   ]
  },
  {
   "cell_type": "code",
   "execution_count": 2,
   "metadata": {
    "collapsed": true
   },
   "outputs": [],
   "source": [
    "# define the similation constants\n",
    "lambda0 = 2e-6              # free space wavelength (m)\n",
    "c0 = 3e8                    # speed of light in vacuum (m/s)\n",
    "omega = 2*np.pi*c0/lambda0  # angular frequency (2pi/s)\n",
    "dl = .5e-1                   # grid size (L0)\n",
    "NPML = [20, 20]             # number of pml grid points on x and y borders\n",
    "pol = 'Ez'                  # polarization (either 'Hz' or 'Ez')\n",
    "source_amp = 1e-9           # amplitude of modal source (make around 1 for nonlinear effects)"
   ]
  },
  {
   "cell_type": "code",
   "execution_count": 3,
   "metadata": {
    "collapsed": true
   },
   "outputs": [],
   "source": [
    "# define material constants\n",
    "n_index = 2.44              # refractive index\n",
    "eps_m = n_index**2          # relative permittivity"
   ]
  },
  {
   "cell_type": "code",
   "execution_count": 4,
   "metadata": {
    "collapsed": true
   },
   "outputs": [],
   "source": [
    "# geometric parameters for a 1 -> 2 port device\n",
    "N = 10\n",
    "L = 20         # length of box (L0)\n",
    "H = 20        # height of box (L0)\n",
    "w = .5        # width of waveguides (L0)\n",
    "d = 2      # distance between waveguides (L0)\n",
    "l = 10         # length of waveguide from PML to box (L0)\n",
    "spc = 3       # space between box and PML (L0)"
   ]
  },
  {
   "attachments": {},
   "cell_type": "markdown",
   "metadata": {},
   "source": [
    "## Defining the Simulation Object\n",
    "Now, we can create an initial relative permittivity, define our design region, and create the `Simulation` object for our domain."
   ]
  },
  {
   "cell_type": "code",
   "execution_count": 6,
   "metadata": {},
   "outputs": [
    {
     "name": "stdout",
     "output_type": "stream",
     "text": [
      "Computed a domain with 840 grids in x and 560 grids in y\n",
      "The simulation has 40 grids per free space wavelength\n"
     ]
    },
    {
     "data": {
      "image/png": "[encoded data removed]",
      "text/plain": [
       "<Figure size 640x480 with 2 Axes>"
      ]
     },
     "metadata": {},
     "output_type": "display_data"
    }
   ],
   "source": [
    "# define permittivity of three port system\n",
    "eps_r, design_region = N_IO_port(N, L, H, w, d, l, spc, dl, NPML, eps_m)\n",
    "(Nx, Ny) = eps_r.shape\n",
    "nx, ny = int(Nx/2), int(Ny/2)            # halfway grid points\n",
    "\n",
    "# make a new simulation object\n",
    "simulation = Simulation(omega, eps_r, dl, NPML, pol)\n",
    "\n",
    "print(\"Computed a domain with {} grids in x and {} grids in y\".format(Nx,Ny))\n",
    "print(\"The simulation has {} grids per free space wavelength\".format(int(lambda0/dl/simulation.L0)))\n",
    "\n",
    "# plot the permittivity distribution\n",
    "simulation.plt_eps(outline=False)\n",
    "plt.show()"
   ]
  },
  {
   "attachments": {},
   "cell_type": "markdown",
   "metadata": {},
   "source": [
    "`Simulation` objects are used for running the actual FDFD simulations and we define our optimizations over them.\n",
    "\n",
    "## Sources and Probes\n",
    "\n",
    "With our simulation defined, we may now define the modal profiles of our input and output ports.  \n",
    "\n",
    "We will first add a modal source to our simulation corresponding to the port on the left.\n",
    "\n",
    "Then, we'll create two temporary simulations that are identical to the original, add modal sources for the top and bottom ports, and use these to get numpy arrays corresponding to the top and bottom probes of the device.  While in the code we are labelling these `J_top` and `J_bot`, in the paper, these are called $\\mathbf{m}_{t}$ and $\\mathbf{m}_b$ respectively"
   ]
  },
  {
   "cell_type": "code",
   "execution_count": null,
   "metadata": {},
   "outputs": [],
   "source": [
    "# set the input waveguide modal source\n",
    "simulation.add_mode(neff=np.sqrt(eps_m), direction_normal='x', center=[NPML[0]+int(l/2/dl), ny], width=int(H/2/dl), scale=source_amp)\n",
    "simulation.setup_modes()\n",
    "\n",
    "J_list = []\n",
    "\n",
    "for i in range(N):\n",
    "    sim_tmp = Simulation(omega, eps_r, dl, NPML, 'Ez')\n",
    "    y = (float(i)-float(N-1)/2.0)*d\n",
    "    y_index = int(y/dl + ny)\n",
    "    sim_tmp.add_mode(neff=np.sqrt(eps_m), direction_normal='x', center=[-NPML[0]-int(l/2/dl), y_index], width=int(2*w/dl))\n",
    "    sim_tmp.setup_modes()\n",
    "    J_tmp = np.abs(sim_tmp.src)\n",
    "    J_list.append(J_tmp)\n",
    "    plt.plot(J_tmp[-NPML[0]-int(l/2/dl), :])\n",
    "plt.xlabel('position (grid)')\n",
    "plt.ylabel('output mode profile')\n",
    "plt.show()"
   ]
  },
  {
   "attachments": {},
   "cell_type": "markdown",
   "metadata": {},
   "source": [
    "Now we can use `J_top` and `J_bot` as probes in our objective function.  We'll no longer need the `top` and `bot` Simulations.\n",
    "\n",
    "We can plot solve the simulation for the electric and magnetic fields and then plot the results."
   ]
  },
  {
   "cell_type": "code",
   "execution_count": null,
   "metadata": {},
   "outputs": [],
   "source": [
    "# set source and solve for electromagnetic fields\n",
    "(Hx, Hy, Ez) = simulation.solve_fields()\n",
    "simulation.plt_abs(outline=True, cbar=True);"
   ]
  },
  {
   "attachments": {},
   "cell_type": "markdown",
   "metadata": {},
   "source": [
    "## Normalizing\n",
    "\n",
    "As an optional step, we'll normalize the modal amplitudes such that $|J^T E|^2 = 1$ for perfect transmission to the port corresponding to $J$.\n",
    "\n",
    "To do this, we'll make another temporary simulation with just a straight waveguide of the same source as our original three port.\n",
    "\n",
    "We'll then compute $|J^T E|^2$ for the output port, and normalize `J_in` and `J_out` using this. "
   ]
  },
  {
   "cell_type": "code",
   "execution_count": null,
   "metadata": {},
   "outputs": [],
   "source": [
    "# compute straight line simulation\n",
    "eps_r_wg, _ = two_port(L, H, w, l, spc, dl, NPML, eps_start=eps_m)\n",
    "(Nx_wg, Ny_wg) = eps_r_wg.shape\n",
    "nx_wg, ny_wg = int(Nx_wg/2), int(Ny_wg/2)            # halfway grid points     \n",
    "simulation_wg = Simulation(omega, eps_r_wg, dl, NPML, 'Ez')\n",
    "simulation_wg.add_mode(np.sqrt(eps_m), 'x', [NPML[0]+int(l/2/dl), ny_wg], int(Ny/3), scale=source_amp)\n",
    "simulation_wg.setup_modes()\n",
    "\n",
    "# compute normalization\n",
    "sim_out = Simulation(omega, eps_r_wg, dl, NPML, 'Ez')\n",
    "sim_out.add_mode(np.sqrt(eps_m), 'x', [-NPML[0]-int(l/2/dl), ny], int(Ny/3))\n",
    "sim_out.setup_modes()\n",
    "J_out = np.abs(sim_out.src)\n",
    "(_, _, Ez_wg) = simulation_wg.solve_fields()\n",
    "SCALE = np.sum(np.square(np.abs(Ez_wg*J_out)))\n",
    "J_out = J_out\n",
    "print('computed a scale of {}'.format(SCALE))\n",
    "\n",
    "simulation_wg.plt_abs(outline=True, cbar=True);\n",
    "\n",
    "for i in range(N):\n",
    "    J_list[i] /= np.sqrt(SCALE)"
   ]
  },
  {
   "attachments": {},
   "cell_type": "markdown",
   "metadata": {},
   "source": [
    "## Changing the design region\n",
    "\n",
    "Optionally, we can also change the design region to several different styles before optimization.  \n",
    "\n",
    "Here we'll use `random_sym` which randomly assigns each pixel within the design region betwee 1 and the maximum permittivity.  \n",
    "\n",
    "This is mirrored across y=0.\n",
    "\n",
    "Making it symmetric leads to more symmetric final devices."
   ]
  },
  {
   "cell_type": "code",
   "execution_count": null,
   "metadata": {
    "collapsed": true
   },
   "outputs": [],
   "source": [
    "# changes design region. 'style' can be one of {'full', 'empty', 'halfway', 'random', 'random_sym'}.\n",
    "simulation.init_design_region(design_region, eps_m, style='random_sym')\n",
    "simulation.plt_eps(outline=False)\n",
    "plt.show()"
   ]
  },
  {
   "attachments": {},
   "cell_type": "markdown",
   "metadata": {},
   "source": [
    "## Defining Objective Functions\n",
    "\n",
    "Now is one of the most important steps: defining the objective function for optimization / inverse design.\n",
    "\n",
    "To do this, we define a function `J` which takes in the linear fields as the first argument and the nonlinear fields as a second argument.\n",
    "\n",
    "Until we make this more flexible, if your problem is linear, you still need the nonlinear fields argument, but you dont have to use it within the body of the function. \n",
    "\n",
    "We require that you define your numpy operations within J using the autograd wrapper for numpy.\n",
    "\n",
    "This allows us to automatically compute the partial derivatives of $J$ w.r.t. $E$ and $E_{nl}$, which are used in the adjoint.  \n",
    "\n",
    "This is super helpful when you define complicated objective functions and dont feel like computing these by hand!\n",
    "\n",
    "Below is an example of an objective function where the top and bottom port transmissions are directly multiplied.\n",
    "\n",
    "`angler` will try to maximize `J` w.r.t the permittivity in the design region.  Since we're multiplying the transmissions here, a highest possible value of `J = 1` will occur when each port is at 50% transmission, which is what we want."
   ]
  },
  {
   "cell_type": "code",
   "execution_count": null,
   "metadata": {},
   "outputs": [],
   "source": [
    "# define objective function  (equal power transmission to bottom and top)\n",
    "import autograd.numpy as npa\n",
    "from angler.objective import Objective, obj_arg\n",
    "\n",
    "arg1 = obj_arg('ez', component='Ez', nl=False)\n",
    "\n",
    "def J(ez):\n",
    "    objfn = 1.0\n",
    "    for i in range(N):\n",
    "        transmit_i = npa.sum(npa.square(npa.abs(ez*J_list[i])))\n",
    "        objfn *= N * transmit_i\n",
    "    return objfn\n",
    "\n",
    "objective = Objective(J, arg_list=[arg1])"
   ]
  },
  {
   "attachments": {},
   "cell_type": "markdown",
   "metadata": {},
   "source": [
    "## Defining the Optimization\n",
    "\n",
    "Now we are ready to define the `Optimization`, which will perform the inverse design on top of our `simulation`.  \n",
    "\n",
    "We give the optimization our objective function, simulation object, design region, and specify the maximum permittivity to allow.\n",
    "\n",
    "Also, we pass in some optional arguments that define the filtering and projection that are used to create smooth feature sizes.\n",
    "\n",
    "`R` controls the minimum feature size.  \n",
    "`beta` controls how strongly to bias the permittivitiy to be either air or material.\n",
    "\n",
    "See the supplementary information of our paper (coming soon) for more details.\n",
    "\n",
    "The `Optimization` object takes a little bit of time to initialize because we need to set up the spatial filter."
   ]
  },
  {
   "cell_type": "code",
   "execution_count": null,
   "metadata": {},
   "outputs": [],
   "source": [
    "# make optimization object\n",
    "R = 14          # filter radius of curvature (pixels)  (takes a while to set up as R > 5-10)\n",
    "beta = 500     # projection strength\n",
    "eta = 0.50      # projection halfway\n",
    "\n",
    "optimization = Optimization(objective=objective, simulation=simulation, design_region=design_region, eps_m=eps_m, R=R, beta=beta, eta=eta)"
   ]
  },
  {
   "attachments": {},
   "cell_type": "markdown",
   "metadata": {},
   "source": [
    "## Checking Adjoint Derivatives\n",
    "\n",
    "We allow users to check that their adjoint derivatives match finite difference numerical derivatives.\n",
    "\n",
    "This is good practice to make sure things are working correctly"
   ]
  },
  {
   "cell_type": "code",
   "execution_count": null,
   "metadata": {},
   "outputs": [],
   "source": [
    "# check the derivatives (note, full derivatives are checked, linear and nonlinear no longer separate)\n",
    "(grad_avm, grad_num) = optimization.check_deriv(Npts=5, d_rho=5e-4)\n",
    "print('adjoint gradient   = {}\\nnumerical gradient = {}'.format(grad_avm, grad_num))"
   ]
  },
  {
   "attachments": {},
   "cell_type": "markdown",
   "metadata": {},
   "source": [
    "## Running the Optimization\n",
    "\n",
    "Finally, we can run the optimization / inverse design.\n",
    "\n",
    "To do this, we simply call `Optimization.run()` with some parameters.\n",
    "\n",
    "You can try out different optimization methods and parameters, for more info, check out `angler/optimization.py`."
   ]
  },
  {
   "cell_type": "code",
   "execution_count": null,
   "metadata": {},
   "outputs": [],
   "source": [
    "# run optimization for 400 steps\n",
    "new_eps = optimization.run(method='lbfgs', Nsteps=400)"
   ]
  },
  {
   "attachments": {},
   "cell_type": "markdown",
   "metadata": {},
   "source": [
    "## Plotting Results\n",
    "\n",
    "Optimization objects have methods for visualizing the results of the run:"
   ]
  },
  {
   "cell_type": "code",
   "execution_count": null,
   "metadata": {},
   "outputs": [],
   "source": [
    "# plot the objective function end structure and fields\n",
    "f, (ax1, ax2, ax3) = plt.subplots(1, 3, figsize=(20,3))\n",
    "\n",
    "simulation.plt_eps(ax=ax1, outline=False)\n",
    "ax1.set_title('final permittivity distribution')\n",
    "\n",
    "optimization.plt_objs(ax=ax2)\n",
    "ax2.set_yscale('linear')\n",
    "\n",
    "(_,_,Ez) = simulation.solve_fields()\n",
    "simulation.plt_abs(ax=ax3, vmax=None)\n",
    "ax1.set_title('linear field')\n",
    "\n",
    "plt.show()"
   ]
  },
  {
   "cell_type": "code",
   "execution_count": null,
   "metadata": {},
   "outputs": [],
   "source": []
  },
  {
   "attachments": {},
   "cell_type": "markdown",
   "metadata": {},
   "source": [
    "Finally we can measure power transmission of our final `simulation`."
   ]
  },
  {
   "cell_type": "code",
   "execution_count": null,
   "metadata": {},
   "outputs": [],
   "source": [
    "# plot transmission characteristics\n",
    "W_in = simulation.W_in   # input power (W/um)\n",
    "W_list = []\n",
    "total_transmit = 0.0\n",
    "\n",
    "for i in range(N):\n",
    "    y = (float(i)-float(N-1)/2.0)*d\n",
    "    y_index = int(y/dl + ny)    \n",
    "    W_i_lin = simulation.flux_probe('x', [-NPML[0]-int(l/2/dl), y_index], int(d/dl))\n",
    "    W_list.append(W_i_lin)\n",
    "    total_transmit += W_i_lin / W_in * 100\n",
    "    print('        -> linear transmission (port {})        = {:.2f} %'.format(i, W_i_lin / W_in * 100))\n",
    "print('total transmission = ', total_transmit)"
   ]
  },
  {
   "attachments": {},
   "cell_type": "markdown",
   "metadata": {},
   "source": [
    "## Conclusion\n",
    "\n",
    "This was a simple demo of a linear problem.  \n",
    "\n",
    "For more functionality, please check out our other notebooks!\n",
    "\n",
    "And if you have a question, feature request, or want to contribute, feel free to reach out on Github."
   ]
  },
  {
   "cell_type": "code",
   "execution_count": null,
   "metadata": {},
   "outputs": [],
   "source": [
    "f, (ax) = plt.subplots(1, 1, figsize=(10,3))\n",
    "\n",
    "simulation.plt_eps(ax=ax, outline=False)\n",
    "ax.set_title('final permittivity')\n",
    "plt.savefig('/users/twh/Desktop/test.eps', dpi=300)"
   ]
  },
  {
   "cell_type": "code",
   "execution_count": null,
   "metadata": {},
   "outputs": [],
   "source": [
    "f, (ax) = plt.subplots(1, 1, figsize=(2,1))\n",
    "\n",
    "optimization.plt_objs(ax=ax)\n",
    "ax.set_yscale('linear')\n",
    "ax.set_title('')\n",
    "ax.set_ylabel('objective')\n",
    "plt.savefig('/users/twh/Desktop/objfn.eps', dpi=300, bbox_inches='tight')"
   ]
  },
  {
   "cell_type": "code",
   "execution_count": null,
   "metadata": {},
   "outputs": [],
   "source": [
    "f, (ax) = plt.subplots(1, 1, figsize=(10,3))\n",
    "(_,_,Ez) = simulation.solve_fields()\n",
    "simulation.plt_abs(ax=ax, vmax=None)\n",
    "ax.set_title('|Ez|')\n",
    "plt.savefig('/users/twh/Desktop/intensity.eps', dpi=600)"
   ]
  },
  {
   "cell_type": "code",
   "execution_count": null,
   "metadata": {},
   "outputs": [],
   "source": [
    "np.save('/users/twh/Desktop/eps_splitter4', simulation.eps_r, allow_pickle=True, fix_imports=True)\n",
    "J_in = np.abs(simulation.src)\n",
    "np.save('/users/twh/Desktop/J_in', J_in, allow_pickle=True, fix_imports=True)\n",
    "np.save('/users/twh/Desktop/J_list', J_list, allow_pickle=True, fix_imports=True)"
   ]
  },
  {
   "cell_type": "code",
   "execution_count": null,
   "metadata": {},
   "outputs": [],
   "source": []
  }
 ],
 "metadata": {
  "anaconda-cloud": {},
  "kernelspec": {
   "display_name": "Python 3",
   "language": "python",
   "name": "python3"
  },
  "language_info": {
   "codemirror_mode": {
    "name": "ipython",
    "version": 3
   },
   "file_extension": ".py",
   "mimetype": "text/x-python",
   "name": "python",
   "nbconvert_exporter": "python",
   "pygments_lexer": "ipython3",
   "version": "3.10.10"
  }
 },
 "nbformat": 4,
 "nbformat_minor": 2
}

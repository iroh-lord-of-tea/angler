{
 "cells": [
  {
   "attachments": {},
   "cell_type": "markdown",
   "metadata": {},
   "source": [
    "Arbitrary N x N optical signal processor "
   ]
  },
  {
   "cell_type": "code",
   "execution_count": null,
   "metadata": {},
   "outputs": [],
   "source": [
    "import numpy as np\n",
    "import matplotlib.pylab as plt\n",
    "import copy\n",
    "\n",
    "# add angler to path (not necessary if pip installed)\n",
    "import sys\n",
    "sys.path.append(\"..\")\n",
    "\n",
    "# import the main simulation and optimization classes\n",
    "from angler import Simulation, Optimization\n",
    "\n",
    "# import some structure generators\n",
    "from angler.structures import three_port, two_port, N_port, N_IO_port\n",
    "\n",
    "import seaborn as sns \n",
    "\n",
    "%load_ext autoreload\n",
    "%autoreload 2\n",
    "%matplotlib inline"
   ]
  },
  {
   "cell_type": "code",
   "execution_count": null,
   "metadata": {},
   "outputs": [],
   "source": [
    "# LaTeX plot formatting\n",
    "#Matplotlib params for figures\n",
    "params = {\"ytick.color\" : \"black\",\n",
    "          \"xtick.color\" : \"black\",\n",
    "          \"axes.labelcolor\" : \"black\",\n",
    "          \"axes.edgecolor\" : \"black\",\n",
    "          \"text.usetex\" : True,}\n",
    "plt.rcParams.update(params)\n",
    "plt.rcParams['text.usetex'] = True\n",
    "plt.rc('text.latex', preamble=r'\\usepackage[cm]{sfmath}')\n",
    "sns.set_context(\"talk\",font_scale=1)\n"
   ]
  },
  {
   "attachments": {},
   "cell_type": "markdown",
   "metadata": {},
   "source": [
    "Define simulation constants"
   ]
  },
  {
   "cell_type": "code",
   "execution_count": null,
   "metadata": {},
   "outputs": [],
   "source": [
    "lambda0 = 1.55e-6           # free space wavelength (m)\n",
    "c0 = 3e8                    # speed of light in vacuum (m/s)\n",
    "omega = 2*np.pi*c0/lambda0  # angular frequency (2pi/s)\n",
    "dl = 0.05                   # grid size (L0)\n",
    "NPML = [20, 20]             # number of pml grid points on x and y borders\n",
    "pol = 'Ez'                  # polarization (either 'Hz' or 'Ez')\n",
    "source_amp = 1e-3           # mW? amplitude of modal source (make around 1 for nonlinear effects)"
   ]
  },
  {
   "cell_type": "code",
   "execution_count": null,
   "metadata": {},
   "outputs": [],
   "source": [
    "# define material constants\n",
    "n_index = 2.8        # refractive index (2-D Si)\n",
    "eps_m = n_index**2   # relative permittivity"
   ]
  },
  {
   "attachments": {},
   "cell_type": "markdown",
   "metadata": {},
   "source": [
    "Inputs = AE features MNIST, Outputs = MNIST classes "
   ]
  },
  {
   "cell_type": "code",
   "execution_count": null,
   "metadata": {},
   "outputs": [],
   "source": [
    "# geometric parameters for a N -> N port device\n",
    "L = 20              # length of box (L0) = micron \n",
    "N = 10              # Num output ports \n",
    "H = 20              # height of box (L0)\n",
    "w = .5              # width of waveguides (L0)\n",
    "d = H/10            # distance between waveguides (L0)\n",
    "l = 5               # length of waveguide from PML to box (L0)\n",
    "spc = 3             # space between box and PML (L0)\n",
    "width= int(H/13/dl) # Width of source "
   ]
  },
  {
   "attachments": {},
   "cell_type": "markdown",
   "metadata": {},
   "source": [
    "Definition of Simulation Object "
   ]
  },
  {
   "cell_type": "code",
   "execution_count": null,
   "metadata": {},
   "outputs": [],
   "source": [
    "# define permittivity of three port system\n",
    "eps_r, design_region = N_IO_port(N, L, H, w, d, l, spc, dl, NPML, eps_m)\n",
    "(Nx, Ny) = eps_r.shape\n",
    "nx, ny = int(Nx/2), int(Ny/2)            # halfway grid points\n",
    "\n",
    "# make new simulation objects, 1 fwd and 1 adj\n",
    "simulation_fwd = Simulation(omega, eps_r, dl, NPML, pol)\n",
    "simulation_adj = Simulation(omega, eps_r, dl, NPML, pol)\n",
    "\n",
    "print(\"Computed a domain with {} grids in x and {} grids in y\".format(Nx,Ny))\n",
    "print(\"The simulation has {} grids per free space wavelength\".format(int(lambda0/dl/simulation_fwd.L0)))\n",
    "\n",
    "# plot the permittivity distribution\n",
    "simulation_fwd.plt_eps(outline=False)\n",
    "plt.show()"
   ]
  },
  {
   "attachments": {},
   "cell_type": "markdown",
   "metadata": {},
   "source": [
    "Sample input source "
   ]
  },
  {
   "cell_type": "code",
   "execution_count": null,
   "metadata": {},
   "outputs": [],
   "source": [
    "# Setup mode source params\n",
    "src_pos_fwd = []\n",
    "src_pos_adj = []\n",
    "\n",
    "for i in range(N):\n",
    "    center_fwd = [NPML[0]+int(l/2/dl), ny-((float(i)-float(N-1)/2.0)*d/dl + w)]\n",
    "    center_adj = [-NPML[0]-int(l/2/dl), ny-((float(i)-float(N-1)/2.0)*d/dl + w)]\n",
    "    # set the input waveguide modal source\n",
    "    simulation_fwd.add_mode(neff=np.sqrt(eps_m), direction_normal='x', center=center_fwd, width=width, scale=source_amp)\n",
    "    simulation_adj.add_mode(neff=np.sqrt(eps_m), direction_normal='x', center=center_adj, width=width, scale=source_amp)\n",
    "    src_pos_fwd.append(center_fwd)\n",
    "    src_pos_adj.append(center_adj)\n",
    "\n",
    "srcs_fwd = simulation_fwd.setup_modes()\n",
    "srcs_adj = simulation_adj.setup_modes()"
   ]
  },
  {
   "attachments": {},
   "cell_type": "markdown",
   "metadata": {},
   "source": [
    "Add modal profiles for auto-diff"
   ]
  },
  {
   "cell_type": "code",
   "execution_count": null,
   "metadata": {},
   "outputs": [],
   "source": [
    "W_in = simulation_fwd.W_in   # input power (W/um)\n",
    "print(W_in)\n",
    "\n",
    "amp_test_list = [1, 1, 1, 1, 1, 1, 1, 1, 1, 1]\n",
    "\n",
    "# TODO :: Write function \"update_src\" to encapsulate this ... \n",
    "\n",
    "# Update mode source amplitude ==> Forward Simulation \n",
    "for i in range(len(amp_test_list)):\n",
    "    # Forward src\n",
    "    center_fwd = src_pos_fwd[i]\n",
    "    inds_x_fwd = [center_fwd[0], center_fwd[0]+1]\n",
    "    inds_y_fwd = [int(center_fwd[1]-width/2), int(center_fwd[1]+width/2)]\n",
    "    src = srcs_fwd[i].reshape((1, -1))*amp_test_list[i]\n",
    "    simulation_fwd.src[inds_x_fwd[0]:inds_x_fwd[1], inds_y_fwd[0]:inds_y_fwd[1]] = np.abs(src[0])*np.sign(np.real(src[0]))\n",
    "\n",
    "\n",
    "# Update mode source amplitude ==> Adjoint Simulation \n",
    "for i in range(len(amp_test_list)):\n",
    "    center_adj = src_pos_adj[i]\n",
    "    inds_x_adj = [center_adj[0], center_adj[0]+1]\n",
    "    inds_y_adj = [int(center_adj[1]-width/2), int(center_adj[1]+width/2)]\n",
    "    src = srcs_adj[i].reshape((1, -1))*amp_test_list[i]\n",
    "    simulation_adj.src[inds_x_adj[0]:inds_x_adj[1], inds_y_adj[0]:inds_y_adj[1]] = np.abs(src[0])*np.sign(np.real(src[0]))"
   ]
  },
  {
   "attachments": {},
   "cell_type": "markdown",
   "metadata": {},
   "source": [
    "Simulate E-field propagation and plot"
   ]
  },
  {
   "cell_type": "code",
   "execution_count": null,
   "metadata": {},
   "outputs": [],
   "source": [
    "# # set source and solve for electromagnetic fields\n",
    "(Hx, Hy, Ez) = simulation_fwd.solve_fields()\n",
    "(Hx, Hy, Ez) = simulation_adj.solve_fields()\n",
    "simulation_adj.plt_abs(outline=True, cbar=True);\n",
    "# plt.xlim((nx - 2*l*L), (nx + 2*l*L))\n",
    "# plt.ylim((ny - 2*l*H), (ny + 2*l*H))\n",
    "plt.show()\n",
    "# print(np.real(Ez))\n"
   ]
  },
  {
   "attachments": {},
   "cell_type": "markdown",
   "metadata": {},
   "source": [
    "Design region "
   ]
  },
  {
   "cell_type": "code",
   "execution_count": null,
   "metadata": {},
   "outputs": [],
   "source": [
    "simulation_fwd.init_design_region(design_region, eps_m, style='halfway')\n",
    "# Must ensure that design region is consistent between fwd and adj sims\n",
    "# Fwd/Adj sim design region updated once every epoch \n",
    "simulation_adj.init_design_region(design_region, eps_m, style='halfway')\n",
    "simulation_fwd.plt_eps(outline=False)\n",
    "plt.show()"
   ]
  },
  {
   "cell_type": "code",
   "execution_count": null,
   "metadata": {},
   "outputs": [],
   "source": [
    "(Hx, Hy, Ez) = simulation_fwd.solve_fields()\n",
    "simulation_fwd.plt_abs(outline=True, cbar=True);\n",
    "# plt.xlim((nx - 2*l*L), (nx + 2*l*L))\n",
    "# plt.ylim((ny - 2*l*H), (ny + 2*l*H))\n",
    "path = \"../../Figures/sample_forward_sim.pdf\"\n",
    "plt.savefig(path, bbox_inches='tight')\n",
    "plt.show()"
   ]
  },
  {
   "attachments": {},
   "cell_type": "markdown",
   "metadata": {},
   "source": [
    "Now measure power transmission of final simulation "
   ]
  },
  {
   "cell_type": "code",
   "execution_count": null,
   "metadata": {},
   "outputs": [],
   "source": [
    "# plot transmission characteristics\n",
    "W_in = simulation_fwd.W_in   # input power (W/um)\n",
    "print(W_in)\n",
    "W_in = W_in\n",
    "W_list = []\n",
    "total_transmit = 0.0\n",
    "\n",
    "for i in range(N):\n",
    "    y_index = ny-((float(i)-float(N-1)/2.0)*d/dl + w)\n",
    "    W_i_lin = simulation_fwd.flux_probe('x', center=[-NPML[0]-int(l/2/dl), y_index], width=width)\n",
    "    W_list.append(W_i_lin)\n",
    "    total_transmit += W_i_lin / W_in * 100\n",
    "    print('        -> linear transmission (port {})        = {:.2f} %'.format(i, (W_i_lin / W_in * 100)))\n",
    "print('total transmission = ', total_transmit)\n",
    "print(W_list)"
   ]
  }
 ],
 "metadata": {
  "kernelspec": {
   "display_name": "node",
   "language": "python",
   "name": "python3"
  },
  "language_info": {
   "codemirror_mode": {
    "name": "ipython",
    "version": 3
   },
   "file_extension": ".py",
   "mimetype": "text/x-python",
   "name": "python",
   "nbconvert_exporter": "python",
   "pygments_lexer": "ipython3",
   "version": "3.11.3"
  },
  "orig_nbformat": 4
 },
 "nbformat": 4,
 "nbformat_minor": 2
}
